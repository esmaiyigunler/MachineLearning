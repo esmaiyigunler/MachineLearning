{
 "cells": [
  {
   "cell_type": "code",
   "execution_count": 3,
   "id": "f77bc9d2-7d30-4312-88c8-9ba851d8b890",
   "metadata": {},
   "outputs": [
    {
     "name": "stdout",
     "output_type": "stream",
     "text": [
      "Doğruluk oranı: 1.0\n"
     ]
    }
   ],
   "source": [
    "import numpy as np\n",
    "import pandas as pd\n",
    "from sklearn.model_selection import train_test_split\n",
    "from sklearn.linear_model import LogisticRegression\n",
    "from sklearn.metrics import accuracy_score\n",
    "\n",
    "#veri setini oluşturalım\n",
    "data={\n",
    "    \"Not\":[65,80,75,50,90],\n",
    "    \"Ders Çalışma Saati\":[5,7,6,3,8],\n",
    "    \"Geçti\":[0,1,1,0,1]\n",
    "}\n",
    "df=pd.DataFrame(data)\n",
    "#bağımsız değişkenler x ve bağımlı değişkenler y\n",
    "X=df[[\"Not\",\"Ders Çalışma Saati\"]]\n",
    "Y=df[\"Geçti\"]\n",
    "#veri setini eğitim ve test olarak bölelim\n",
    "X_train,X_test,Y_train,Y_test=train_test_split(X,Y,test_size=0.2,random_state=42)\n",
    "#modeli oluştur ve eğit\n",
    "model=LogisticRegression()\n",
    "model.fit(X_train,Y_train)\n",
    "y_pred=model.predict(X_test)\n",
    "\n",
    "accuracy=accuracy_score(Y_test,y_pred)\n",
    "print(\"Doğruluk oranı:\",accuracy)\n"
   ]
  },
  {
   "cell_type": "code",
   "execution_count": 11,
   "id": "692a25ff-a248-4954-842e-8d335d7c6eeb",
   "metadata": {},
   "outputs": [
    {
     "name": "stdout",
     "output_type": "stream",
     "text": [
      "Doğruluk oranı: 0.956140350877193\n"
     ]
    }
   ],
   "source": [
    "\n",
    "from sklearn.datasets import load_breast_cancer\n",
    "from sklearn.model_selection import train_test_split\n",
    "from sklearn.linear_model import LogisticRegression\n",
    "from sklearn.metrics import accuracy_score\n",
    "\n",
    "breast_cancer=load_breast_cancer()\n",
    "X=breast_cancer.data\n",
    "Y=breast_cancer.target\n",
    "\n",
    "X_train,X_test,Y_train,Y_test=train_test_split(X,Y,test_size=0.2,random_state=42)\n",
    "model=LogisticRegression(max_iter=10000)\n",
    "model.fit(X_train,Y_train)\n",
    "y_pred=model.predict(X_test)\n",
    "\n",
    "accuracy=accuracy_score(Y_test,y_pred)\n",
    "print(\"Doğruluk oranı:\",accuracy)"
   ]
  },
  {
   "cell_type": "code",
   "execution_count": 14,
   "id": "54828cef-5712-45ef-b5cf-10de268069c3",
   "metadata": {},
   "outputs": [
    {
     "name": "stdout",
     "output_type": "stream",
     "text": [
      "Doğruluk oranı: 0.5\n"
     ]
    }
   ],
   "source": [
    "import numpy as np\n",
    "import pandas as pd\n",
    "from sklearn.model_selection import train_test_split\n",
    "from sklearn.linear_model import LogisticRegression\n",
    "from sklearn.metrics import accuracy_score\n",
    "\n",
    "#veri setini oluşturalım\n",
    "data=pd.read_csv(\"musteri_churn.csv\")\n",
    "df=pd.DataFrame(data)\n",
    "#bağımsız değişkenler x ve bağımlı değişkenler y\n",
    "X=df[[\"Kullanim_Suresi\",\"Destek_Cagri_Sayisi\",\"Fatura\"]]\n",
    "Y=df[\"Churn\"]\n",
    "#veri setini eğitim ve test olarak bölelim\n",
    "X_train,X_test,Y_train,Y_test=train_test_split(X,Y,test_size=0.2,random_state=42)\n",
    "#modeli oluştur ve eğit\n",
    "model=LogisticRegression()\n",
    "model.fit(X_train,Y_train)\n",
    "y_pred=model.predict(X_test)\n",
    "\n",
    "accuracy=accuracy_score(Y_test,y_pred)\n",
    "print(\"Doğruluk oranı:\",accuracy)\n"
   ]
  },
  {
   "cell_type": "code",
   "execution_count": 17,
   "id": "98ca3707-5f4c-43e8-8791-0d420160dcd3",
   "metadata": {},
   "outputs": [
    {
     "name": "stdout",
     "output_type": "stream",
     "text": [
      "Doğruluk oranı: 1.0\n"
     ]
    }
   ],
   "source": [
    "import numpy as np\n",
    "import pandas as pd\n",
    "from sklearn.model_selection import train_test_split\n",
    "from sklearn.linear_model import LogisticRegression\n",
    "from sklearn.metrics import accuracy_score\n",
    "\n",
    "#veri setini oluşturalım\n",
    "data=pd.read_csv(\"kredi_basvurusu.csv\")\n",
    "df=pd.DataFrame(data)\n",
    "#bağımsız değişkenler x ve bağımlı değişkenler y\n",
    "X=df[[\"Yas\",\"Gelir\",\"Kredi_Gecmisi\"]]\n",
    "Y=df[\"Onaylandi\"]\n",
    "#veri setini eğitim ve test olarak bölelim\n",
    "X_train,X_test,Y_train,Y_test=train_test_split(X,Y,test_size=0.2,random_state=42)\n",
    "#modeli oluştur ve eğit\n",
    "model=LogisticRegression()\n",
    "model.fit(X_train,Y_train)\n",
    "y_pred=model.predict(X_test)\n",
    "\n",
    "accuracy=accuracy_score(Y_test,y_pred)\n",
    "print(\"Doğruluk oranı:\",accuracy)\n"
   ]
  },
  {
   "cell_type": "code",
   "execution_count": 18,
   "id": "ec7397e2-23f3-4415-9a0c-e0357b740823",
   "metadata": {},
   "outputs": [
    {
     "name": "stdout",
     "output_type": "stream",
     "text": [
      "Doğruluk oranı: 1.0\n"
     ]
    }
   ],
   "source": [
    "import numpy as np\n",
    "import pandas as pd\n",
    "from sklearn.model_selection import train_test_split\n",
    "from sklearn.linear_model import LogisticRegression\n",
    "from sklearn.metrics import accuracy_score\n",
    "\n",
    "#veri setini oluşturalım\n",
    "data=pd.read_csv(\"diyabet.csv\")\n",
    "df=pd.DataFrame(data)\n",
    "#bağımsız değişkenler x ve bağımlı değişkenler y\n",
    "X=df[[\"Yas\",\"BMI\",\"Kan_Sekeri\"]]\n",
    "Y=df[\"Diyabet\"]\n",
    "#veri setini eğitim ve test olarak bölelim\n",
    "X_train,X_test,Y_train,Y_test=train_test_split(X,Y,test_size=0.2,random_state=42)\n",
    "#modeli oluştur ve eğit\n",
    "model=LogisticRegression()\n",
    "model.fit(X_train,Y_train)\n",
    "y_pred=model.predict(X_test)\n",
    "\n",
    "accuracy=accuracy_score(Y_test,y_pred)\n",
    "print(\"Doğruluk oranı:\",accuracy)\n"
   ]
  },
  {
   "cell_type": "code",
   "execution_count": 19,
   "id": "a35cdd75-7c70-4d8e-a897-0e68d4cfd7df",
   "metadata": {},
   "outputs": [
    {
     "name": "stdout",
     "output_type": "stream",
     "text": [
      "Doğruluk oranı: 1.0\n"
     ]
    }
   ],
   "source": [
    "import numpy as np\n",
    "import pandas as pd\n",
    "from sklearn.model_selection import train_test_split\n",
    "from sklearn.linear_model import LogisticRegression\n",
    "from sklearn.metrics import accuracy_score\n",
    "\n",
    "#veri setini oluşturalım\n",
    "data=pd.read_csv(\"araç_sigorta.csv\")\n",
    "df=pd.DataFrame(data)\n",
    "#bağımsız değişkenler x ve bağımlı değişkenler y\n",
    "X=df[[\"Arac_Yasi\",\"Prim_Odeme\",\"Hasar_Gecmisi\"]]\n",
    "Y=df[\"Iptal\"]\n",
    "#veri setini eğitim ve test olarak bölelim\n",
    "X_train,X_test,Y_train,Y_test=train_test_split(X,Y,test_size=0.2,random_state=42)\n",
    "#modeli oluştur ve eğit\n",
    "model=LogisticRegression()\n",
    "model.fit(X_train,Y_train)\n",
    "y_pred=model.predict(X_test)\n",
    "\n",
    "accuracy=accuracy_score(Y_test,y_pred)\n",
    "print(\"Doğruluk oranı:\",accuracy)\n"
   ]
  },
  {
   "cell_type": "code",
   "execution_count": 20,
   "id": "9ddd5fcd-1b5e-4d30-88f5-477074606d2e",
   "metadata": {},
   "outputs": [
    {
     "name": "stdout",
     "output_type": "stream",
     "text": [
      "Doğruluk oranı: 1.0\n"
     ]
    }
   ],
   "source": [
    "import numpy as np\n",
    "import pandas as pd\n",
    "from sklearn.model_selection import train_test_split\n",
    "from sklearn.linear_model import LogisticRegression\n",
    "from sklearn.metrics import accuracy_score\n",
    "\n",
    "#veri setini oluşturalım\n",
    "data=pd.read_csv(\"kalp_hastaligi.csv\")\n",
    "df=pd.DataFrame(data)\n",
    "#bağımsız değişkenler x ve bağımlı değişkenler y\n",
    "X=df[[\"Yas\",\"Tansiyon\",\"Kolesterol\"]]\n",
    "Y=df[\"Kalp_Hastaligi\"]\n",
    "#veri setini eğitim ve test olarak bölelim\n",
    "X_train,X_test,Y_train,Y_test=train_test_split(X,Y,test_size=0.2,random_state=42)\n",
    "#modeli oluştur ve eğit\n",
    "model=LogisticRegression()\n",
    "model.fit(X_train,Y_train)\n",
    "y_pred=model.predict(X_test)\n",
    "\n",
    "accuracy=accuracy_score(Y_test,y_pred)\n",
    "print(\"Doğruluk oranı:\",accuracy)\n"
   ]
  },
  {
   "cell_type": "code",
   "execution_count": 21,
   "id": "332cda07-6f40-40dd-afbf-5382de2fcb5f",
   "metadata": {},
   "outputs": [
    {
     "name": "stdout",
     "output_type": "stream",
     "text": [
      "Doğruluk oranı: 1.0\n"
     ]
    }
   ],
   "source": [
    "import numpy as np\n",
    "import pandas as pd\n",
    "from sklearn.model_selection import train_test_split\n",
    "from sklearn.linear_model import LogisticRegression\n",
    "from sklearn.metrics import accuracy_score\n",
    "\n",
    "#veri setini oluşturalım\n",
    "data=pd.read_csv(\"satin_alma.csv\")\n",
    "df=pd.DataFrame(data)\n",
    "#bağımsız değişkenler x ve bağımlı değişkenler y\n",
    "X=df[[\"Yas\",\"Aylik_Gelir\",\"Onceki_Alisveris\"]]\n",
    "Y=df[\"Satin_Alindi\"]\n",
    "#veri setini eğitim ve test olarak bölelim\n",
    "X_train,X_test,Y_train,Y_test=train_test_split(X,Y,test_size=0.2,random_state=42)\n",
    "#modeli oluştur ve eğit\n",
    "model=LogisticRegression()\n",
    "model.fit(X_train,Y_train)\n",
    "y_pred=model.predict(X_test)\n",
    "\n",
    "accuracy=accuracy_score(Y_test,y_pred)\n",
    "print(\"Doğruluk oranı:\",accuracy)\n"
   ]
  },
  {
   "cell_type": "code",
   "execution_count": null,
   "id": "769d94d2-f655-4f20-afa8-02ccf5b3fb51",
   "metadata": {},
   "outputs": [],
   "source": []
  }
 ],
 "metadata": {
  "kernelspec": {
   "display_name": "Python 3 (ipykernel)",
   "language": "python",
   "name": "python3"
  },
  "language_info": {
   "codemirror_mode": {
    "name": "ipython",
    "version": 3
   },
   "file_extension": ".py",
   "mimetype": "text/x-python",
   "name": "python",
   "nbconvert_exporter": "python",
   "pygments_lexer": "ipython3",
   "version": "3.11.7"
  }
 },
 "nbformat": 4,
 "nbformat_minor": 5
}
